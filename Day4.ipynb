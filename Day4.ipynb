{
 "cells": [
  {
   "cell_type": "markdown",
   "metadata": {},
   "source": [
    "# Problem 1"
   ]
  },
  {
   "cell_type": "markdown",
   "metadata": {},
   "source": [
    "1.Prompt the user \"Enter your weight (in kgs)\" and record weight\n",
    "2.Prompt the user \"What is your preferred unit of height? Type \"F\" for feet and \"M\" for meters\" and record the preference\n",
    "3.If user says \"F\" then prompt user \"You will enter your height given as feet and inches. First enter feet\" and record feet and then prompt user \"Now enter inches\" and record inches\n",
    "4.If user says \"M\" then prompt user \"What is your height in meters\" and record height in meters\n",
    "5.If user had chosen \"F\" then convert height into meters\n",
    "6.Compute BMI using the following formula\n",
    "\n",
    "BMI = weight / height ** 2\n",
    "\n",
    "7.Depending on the value of BMI, report the user's type given by the following table: ● BMI < 18.5 : UNDERWEIGHT ● 18.5 <= BMI < 25 : NORMAL ● 25 <= BMI < 30 : OVERWEIGHT ● BMI > 30 : VERY-OVERWEIGHT"
   ]
  },
  {
   "cell_type": "code",
   "execution_count": 1,
   "metadata": {},
   "outputs": [
    {
     "name": "stdout",
     "output_type": "stream",
     "text": [
      "Enter your weight (in kgs12\n",
      "What is your preferred unit of heightF\n",
      "I am in the F Block.\n"
     ]
    }
   ],
   "source": [
    "# prompt the user about the weight\n",
    "weight = input(\"Enter your weight (in kgs\")\n",
    "height_unit = input(\"What is your preferred unit of height\")\n",
    "\n",
    "if height_unit == \"F\":\n",
    "  print(\"I am in the F Block.\")\n",
    "else:\n",
    "  print(\"I am in the M Block.\")"
   ]
  },
  {
   "cell_type": "code",
   "execution_count": 2,
   "metadata": {},
   "outputs": [
    {
     "name": "stdout",
     "output_type": "stream",
     "text": [
      "Enter your weight (in kgs12\n",
      "What is your preferred unit of height23\n",
      "Please enter your height in meters23\n"
     ]
    }
   ],
   "source": [
    "# prompt the user about the weight\n",
    "weight = input(\"Enter your weight (in kgs\")\n",
    "height_unit = input(\"What is your preferred unit of height\")\n",
    "\n",
    "if height_unit == \"F\":\n",
    "  feet = input(\"Enter feet and inches. Lets start with feet\")\n",
    "  inches = input(\"Now enter inches\")\n",
    "else:\n",
    "  meters = input(\"Please enter your height in meters\")"
   ]
  },
  {
   "cell_type": "code",
   "execution_count": 3,
   "metadata": {},
   "outputs": [
    {
     "name": "stdout",
     "output_type": "stream",
     "text": [
      "Enter your weight (in kgs12\n",
      "What is your preferred unit of heightF\n",
      "Enter feet and inches. Lets start with feet6\n",
      "Now enter inches3\n"
     ]
    },
    {
     "ename": "TypeError",
     "evalue": "unsupported operand type(s) for /: 'str' and 'int'",
     "output_type": "error",
     "traceback": [
      "\u001b[1;31m---------------------------------------------------------------------------\u001b[0m",
      "\u001b[1;31mTypeError\u001b[0m                                 Traceback (most recent call last)",
      "\u001b[1;32m<ipython-input-3-978ec0c93202>\u001b[0m in \u001b[0;36m<module>\u001b[1;34m\u001b[0m\n\u001b[0;32m      6\u001b[0m   \u001b[0mfeet\u001b[0m \u001b[1;33m=\u001b[0m \u001b[0minput\u001b[0m\u001b[1;33m(\u001b[0m\u001b[1;34m\"Enter feet and inches. Lets start with feet\"\u001b[0m\u001b[1;33m)\u001b[0m\u001b[1;33m\u001b[0m\u001b[1;33m\u001b[0m\u001b[0m\n\u001b[0;32m      7\u001b[0m   \u001b[0minches\u001b[0m \u001b[1;33m=\u001b[0m \u001b[0minput\u001b[0m\u001b[1;33m(\u001b[0m\u001b[1;34m\"Now enter inches\"\u001b[0m\u001b[1;33m)\u001b[0m\u001b[1;33m\u001b[0m\u001b[1;33m\u001b[0m\u001b[0m\n\u001b[1;32m----> 8\u001b[1;33m   \u001b[0mmeters\u001b[0m \u001b[1;33m=\u001b[0m \u001b[1;33m(\u001b[0m\u001b[0mfeet\u001b[0m \u001b[1;33m+\u001b[0m \u001b[0minches\u001b[0m\u001b[1;33m/\u001b[0m\u001b[1;36m12\u001b[0m\u001b[1;33m)\u001b[0m \u001b[1;33m*\u001b[0m \u001b[1;36m0.3048\u001b[0m\u001b[1;33m\u001b[0m\u001b[1;33m\u001b[0m\u001b[0m\n\u001b[0m\u001b[0;32m      9\u001b[0m \u001b[1;32melse\u001b[0m\u001b[1;33m:\u001b[0m\u001b[1;33m\u001b[0m\u001b[1;33m\u001b[0m\u001b[0m\n\u001b[0;32m     10\u001b[0m   \u001b[0mmeters\u001b[0m \u001b[1;33m=\u001b[0m \u001b[0minput\u001b[0m\u001b[1;33m(\u001b[0m\u001b[1;34m\"Please enter your height in meters\"\u001b[0m\u001b[1;33m)\u001b[0m\u001b[1;33m\u001b[0m\u001b[1;33m\u001b[0m\u001b[0m\n",
      "\u001b[1;31mTypeError\u001b[0m: unsupported operand type(s) for /: 'str' and 'int'"
     ]
    }
   ],
   "source": [
    "# prompt the user about the weight\n",
    "weight = input(\"Enter your weight (in kgs\")\n",
    "height_unit = input(\"What is your preferred unit of height\")\n",
    "\n",
    "if height_unit == \"F\":\n",
    "  feet = input(\"Enter feet and inches. Lets start with feet\")\n",
    "  inches = input(\"Now enter inches\")\n",
    "  meters = (feet + inches/12) * 0.3048\n",
    "else:\n",
    "  meters = input(\"Please enter your height in meters\")"
   ]
  },
  {
   "cell_type": "code",
   "execution_count": 4,
   "metadata": {},
   "outputs": [],
   "source": [
    "def input_single_integer(prompt):\n",
    "  ret = int(input(prompt))\n",
    "  return ret"
   ]
  },
  {
   "cell_type": "code",
   "execution_count": 5,
   "metadata": {},
   "outputs": [],
   "source": [
    "def input_single_float(prompt):\n",
    "  ret = float(input(prompt))\n",
    "  return ret"
   ]
  },
  {
   "cell_type": "code",
   "execution_count": 6,
   "metadata": {},
   "outputs": [
    {
     "name": "stdout",
     "output_type": "stream",
     "text": [
      "Enter your weight (in kgs60\n",
      "What is your preferred unit of height5\n",
      "Please enter your height in meters6\n"
     ]
    }
   ],
   "source": [
    "# prompt the user about the weight\n",
    "weight = input_single_float(\"Enter your weight (in kgs\")\n",
    "height_unit = input(\"What is your preferred unit of height\")\n",
    "\n",
    "if height_unit == \"F\":\n",
    "  feet = input_single_integer(\"Enter feet and inches. Lets start with feet\")\n",
    "  inches = input_single_integer(\"Now enter inches\")\n",
    "  meters = (feet + inches/12) * 0.3048\n",
    "else:\n",
    "  meters = input_single_float(\"Please enter your height in meters\")"
   ]
  },
  {
   "cell_type": "code",
   "execution_count": 7,
   "metadata": {},
   "outputs": [
    {
     "name": "stdout",
     "output_type": "stream",
     "text": [
      "Enter your weight (in kgs60\n",
      "What is your preferred unit of heightF\n",
      "Enter feet and inches. Lets start with feet5\n",
      "Now enter inches4\n",
      "My BMI value is  22.705123535247072\n",
      "NORMAL\n"
     ]
    }
   ],
   "source": [
    "# prompt the user about the weight\n",
    "weight = input_single_float(\"Enter your weight (in kgs\")\n",
    "height_unit = input(\"What is your preferred unit of height\")\n",
    "\n",
    "if height_unit == \"F\":\n",
    "  feet = input_single_integer(\"Enter feet and inches. Lets start with feet\")\n",
    "  inches = input_single_integer(\"Now enter inches\")\n",
    "  meters = (feet + inches/12) * 0.3048\n",
    "else:\n",
    "  meters = input_single_float(\"Please enter your height in meters\")\n",
    "\n",
    "height = meters\n",
    "bmi = weight / height ** 2\n",
    "\n",
    "print(\"My BMI value is \", str(bmi))\n",
    "\n",
    "if bmi < 18.5:\n",
    "  print(\"UNDERWEIGHT\")\n",
    "elif bmi < 25:\n",
    "  print(\"NORMAL\")\n",
    "elif bmi < 30:\n",
    "  print(\"OVERWEIGHT\")\n",
    "else:\n",
    "  print(\"VERY-OVERWEIGHT\")"
   ]
  },
  {
   "cell_type": "code",
   "execution_count": null,
   "metadata": {},
   "outputs": [],
   "source": []
  }
 ],
 "metadata": {
  "kernelspec": {
   "display_name": "Python 3",
   "language": "python",
   "name": "python3"
  },
  "language_info": {
   "codemirror_mode": {
    "name": "ipython",
    "version": 3
   },
   "file_extension": ".py",
   "mimetype": "text/x-python",
   "name": "python",
   "nbconvert_exporter": "python",
   "pygments_lexer": "ipython3",
   "version": "3.8.5"
  }
 },
 "nbformat": 4,
 "nbformat_minor": 4
}
